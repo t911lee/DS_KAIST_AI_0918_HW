{
  "nbformat": 4,
  "nbformat_minor": 0,
  "metadata": {
    "file_extension": ".py",
    "kernelspec": {
      "display_name": "Python 3",
      "language": "python",
      "name": "python3"
    },
    "language_info": {
      "codemirror_mode": {
        "name": "ipython",
        "version": 3
      },
      "file_extension": ".py",
      "mimetype": "text/x-python",
      "name": "python",
      "nbconvert_exporter": "python",
      "pygments_lexer": "ipython3",
      "version": "3.6.4"
    },
    "mimetype": "text/x-python",
    "name": "python",
    "npconvert_exporter": "python",
    "pygments_lexer": "ipython3",
    "version": 3,
    "colab": {
      "name": "20190918_Regression_HW_TaeheonLee.ipynb",
      "provenance": [],
      "toc_visible": true,
      "include_colab_link": true
    }
  },
  "cells": [
    {
      "cell_type": "markdown",
      "metadata": {
        "id": "view-in-github",
        "colab_type": "text"
      },
      "source": [
        "<a href=\"https://colab.research.google.com/github/t911lee/DS_KAIST_AI_0918_HW/blob/master/20190918_Regression_HW_TaeheonLee.ipynb\" target=\"_parent\"><img src=\"https://colab.research.google.com/assets/colab-badge.svg\" alt=\"Open In Colab\"/></a>"
      ]
    },
    {
      "cell_type": "code",
      "metadata": {
        "id": "ABF3UA2XQILe",
        "colab_type": "code",
        "colab": {}
      },
      "source": [
        "!pip install -U -q PyDrive"
      ],
      "execution_count": 0,
      "outputs": []
    },
    {
      "cell_type": "code",
      "metadata": {
        "id": "foDM_KudQILu",
        "colab_type": "code",
        "colab": {}
      },
      "source": [
        "#-*- coding:utf-8 -*-"
      ],
      "execution_count": 0,
      "outputs": []
    },
    {
      "cell_type": "markdown",
      "metadata": {
        "id": "Fn7gU21cQILz",
        "colab_type": "text"
      },
      "source": [
        "# HW_0918 Regression 학습 모델 및 예측 진행 (이태헌)\n",
        "## 1. Data Set\n",
        "#####   - 자동차의 가격, 정비비용, 도어수, 인원수, 트렁크 크기, 안전도에 따라 4개의 추천 등급으로 나눔\n",
        "#####   - 추천 등급 분포(unacc: 70%, acc: 22.2%, good: 4%, very good: 3.7%)에 따라 \n",
        "#####        training과 test에 동일 분포를 가지도록 인위적으로 data를 정리하여\n",
        "#####        각각 0918_car_training.csv(1385개), 0918_car_test.csv(343개) 파일로 사전 준비함\n",
        "## 2. 진행\n",
        "#####   - 1차로 기존 수업에서 진행된 방식을 따라함\n",
        "#####   - Normalization, Modeling, Training, Prediction Plotting 진행\n",
        "#####   - 기본 진행 후 Early stop을 통한 training 감소 확인함\n",
        "## 3. 도전\n",
        "#####   - 수업 중 진행된 One-hot 인코딩 방식이 향후 쓸모가 많을 것이라 생각하여 추가 진행함\n",
        "#####   - 숫자로 적용된 4개의 추천등급을 4개 category로 나누어서 마지막 layer 출력을 4개로 설정하고 진행함\n",
        "#####   - Label의 수가 4개로 늘어났으므로 그대로 기존 진행한 Prediction plotting을 통해 결과를 확인해보고,\n",
        "#####   - 4개 Label을 하나의 값(최초 추천등급)으로 정리하여 일치 여부에 따른 정확도 확인함(정확도 81%).\n",
        "## 4. 계획\n",
        "#####   - 추가로 softmax를 활용한 modeling이 효과적이라고 판단되어 진행해볼 예정임"
      ]
    },
    {
      "cell_type": "code",
      "metadata": {
        "id": "eA8OkQJnQIL1",
        "colab_type": "code",
        "colab": {}
      },
      "source": [
        "import os\n",
        "import sys\n",
        "import pathlib\n",
        "import numpy as np\n",
        "import time\n",
        "\n",
        "import matplotlib.pyplot as plt\n",
        "import pandas as pd\n",
        "import seaborn as sns\n",
        "\n",
        "import tensorflow as tf\n",
        "from tensorflow import keras\n",
        "from tensorflow.keras import layers\n",
        "\n",
        "from __future__ import absolute_import, division, print_function, unicode_literals, unicode_literals"
      ],
      "execution_count": 0,
      "outputs": []
    },
    {
      "cell_type": "code",
      "metadata": {
        "id": "5wlAn2eQQIL6",
        "colab_type": "code",
        "colab": {}
      },
      "source": [
        "from pydrive.auth import GoogleAuth\n",
        "from pydrive.drive import GoogleDrive\n",
        "#from google.colab import auth\n",
        "from oauth2client.client import GoogleCredentials"
      ],
      "execution_count": 0,
      "outputs": []
    },
    {
      "cell_type": "code",
      "metadata": {
        "id": "oG9RAshkQIL_",
        "colab_type": "code",
        "colab": {
          "base_uri": "https://localhost:8080/",
          "height": 34
        },
        "outputId": "71c9b7dc-7353-445c-ff5a-7d167928ce5b"
      },
      "source": [
        "colab = None\n",
        "try:\n",
        "    from google.colab import auth\n",
        "    print ('Colab envirionment')\n",
        "    colab = True\n",
        "except:\n",
        "    print ('Not colab envirionment.')\n",
        "    colab = False"
      ],
      "execution_count": 4,
      "outputs": [
        {
          "output_type": "stream",
          "text": [
            "Colab envirionment\n"
          ],
          "name": "stdout"
        }
      ]
    },
    {
      "cell_type": "code",
      "metadata": {
        "id": "ox01kyX0QIME",
        "colab_type": "code",
        "colab": {
          "base_uri": "https://localhost:8080/",
          "height": 34
        },
        "outputId": "2e1021cb-ae8f-4f1f-8592-b8c6064160f5"
      },
      "source": [
        "print (os.getcwd())"
      ],
      "execution_count": 5,
      "outputs": [
        {
          "output_type": "stream",
          "text": [
            "/content\n"
          ],
          "name": "stdout"
        }
      ]
    },
    {
      "cell_type": "code",
      "metadata": {
        "id": "LMpHPRJ-QIMJ",
        "colab_type": "code",
        "colab": {}
      },
      "source": [
        "if not colab:\n",
        "    try:\n",
        "        os.chdir(os.path.join(os.getcwd(), 'AI_KAIST\\\\HW_0918_MLP_BP'))\n",
        "        print(os.getcwd())\n",
        "    except:\n",
        "        pass"
      ],
      "execution_count": 0,
      "outputs": []
    },
    {
      "cell_type": "markdown",
      "metadata": {
        "id": "XHEDS88eQIMN",
        "colab_type": "text"
      },
      "source": [
        " ## =======================================================\n",
        " ## 1. Regeression Modeling, Training, Prediction 진행\n",
        " ## ======================================================="
      ]
    },
    {
      "cell_type": "markdown",
      "metadata": {
        "id": "5PoyLyFXQIMP",
        "colab_type": "text"
      },
      "source": [
        "### 1-1 데이터 가져오기 < Car Score Data >"
      ]
    },
    {
      "cell_type": "code",
      "metadata": {
        "id": "QOrvYcGEQIMR",
        "colab_type": "code",
        "colab": {
          "base_uri": "https://localhost:8080/",
          "height": 34
        },
        "outputId": "9470b9a6-9b1d-42a7-f859-7273964aef81"
      },
      "source": [
        "## Getting Data ##\n",
        "\n",
        "def makeDict(data):\n",
        "  tDict = {}\n",
        "  \n",
        "  for itx, x in enumerate(data):\n",
        "    if ',' in x:\n",
        "      xList = x.split(',')\n",
        "      if itx == 0:\n",
        "        for j in xList:\n",
        "          tDict[j] = []\n",
        "      else:\n",
        "       for jtx, j in enumerate(xList):\n",
        "          tDict[data[0].split(',')[jtx]].append(int(j))\n",
        "  \n",
        "  return tDict\n",
        "\n",
        "if colab:\n",
        "  \n",
        "    auth.authenticate_user()\n",
        "    gauth = GoogleAuth()\n",
        "    gauth.credentials = GoogleCredentials.get_application_default()\n",
        "    drive = GoogleDrive(gauth)\n",
        "    \n",
        "    train_id = '1XJ7mp3_-m7Ee0E88yJ6tKTGgNWABBXX-'\n",
        "    test_id = '1BbRXBPDWWJ8IWFaj-J4LwuCGG6dIDUJc'\n",
        "    traindown = drive.CreateFile({'id': train_id})\n",
        "    testdown = drive.CreateFile({'id': test_id})\n",
        "    train_str = traindown.GetContentString().split('\\r\\n')\n",
        "    test_str = testdown.GetContentString().split('\\r\\n')\n",
        "    \n",
        "    train_data = makeDict(train_str)\n",
        "    test_data = makeDict(test_str)\n",
        "            \n",
        "    traindata = pd.DataFrame(train_data)\n",
        "    testdata = pd.DataFrame(test_data)\n",
        "    \n",
        "else:\n",
        "    trainfilepath = os.path.join(os.getcwd(), '0918_car_train.csv')\n",
        "    testfilepath = os.path.join(os.getcwd(), '0918_car_test.csv')\n",
        "    traindata = pd.read_csv(trainfilepath)\n",
        "    testdata = pd.read_csv(testfilepath)\n",
        "\n",
        "    \n",
        "colNames = [ x for x in traindata.columns ]\n",
        "colNames2 = [ x for x in testdata.columns ]\n",
        "print ('colNames :', colNames)\n"
      ],
      "execution_count": 47,
      "outputs": [
        {
          "output_type": "stream",
          "text": [
            "colNames : ['Price', 'Maintenance', 'Doors', 'Persons', 'Luggage', 'Safety', 'Score']\n"
          ],
          "name": "stdout"
        }
      ]
    },
    {
      "cell_type": "markdown",
      "metadata": {
        "id": "wI1pvHssQIMX",
        "colab_type": "text"
      },
      "source": [
        "### 1-2 Train set / Test set 지정하기"
      ]
    },
    {
      "cell_type": "code",
      "metadata": {
        "id": "uMMIjlKp60mr",
        "colab_type": "code",
        "colab": {
          "base_uri": "https://localhost:8080/",
          "height": 34
        },
        "outputId": "8f26eccf-861c-4e78-fe07-4c57ca93d0d7"
      },
      "source": [
        "colNames2"
      ],
      "execution_count": 48,
      "outputs": [
        {
          "output_type": "execute_result",
          "data": {
            "text/plain": [
              "['Price', 'Maintenance', 'Doors', 'Persons', 'Luggage', 'Safety', 'Score']"
            ]
          },
          "metadata": {
            "tags": []
          },
          "execution_count": 48
        }
      ]
    },
    {
      "cell_type": "code",
      "metadata": {
        "id": "2mh4dx_qQIMZ",
        "colab_type": "code",
        "colab": {}
      },
      "source": [
        "\n",
        "features = ['Price','Maintenance','Doors','Persons','Luggage','Safety']\n",
        "labels = ['Score']\n",
        "\n",
        "\n",
        "train_dataset = traindata.loc[:,features]\n",
        "test_dataset = testdata.loc[:,features]\n",
        "\n",
        "train_labels = traindata.loc[:,labels]\n",
        "test_labels = testdata.loc[:,labels]\n"
      ],
      "execution_count": 0,
      "outputs": []
    },
    {
      "cell_type": "markdown",
      "metadata": {
        "id": "Fd57wjGpQIMd",
        "colab_type": "text"
      },
      "source": [
        "### 1-3 Train set, Test set 확인하기"
      ]
    },
    {
      "cell_type": "code",
      "metadata": {
        "id": "55DYBKqrQIMe",
        "colab_type": "code",
        "colab": {
          "base_uri": "https://localhost:8080/",
          "height": 434
        },
        "outputId": "6c625e3a-aa95-48b2-d86c-c356c5277775"
      },
      "source": [
        "\n",
        "train_dataset.head(),test_dataset.head(),train_labels.head(),test_labels.head()\n"
      ],
      "execution_count": 50,
      "outputs": [
        {
          "output_type": "execute_result",
          "data": {
            "text/plain": [
              "(   Price  Maintenance  Doors  Persons  Luggage  Safety\n",
              " 0      4            4      2        2        1       1\n",
              " 1      4            4      2        2        1       2\n",
              " 2      4            4      2        2        1       3\n",
              " 3      4            4      3        2        1       1\n",
              " 4      4            4      3        2        1       2,\n",
              "    Price  Maintenance  Doors  Persons  Luggage  Safety\n",
              " 0      1            4      2        5        2       2\n",
              " 1      1            4      2        5        3       1\n",
              " 2      1            4      3        2        1       1\n",
              " 3      1            4      3        2        1       2\n",
              " 4      1            4      3        2        1       3,\n",
              "    Score\n",
              " 0      1\n",
              " 1      1\n",
              " 2      1\n",
              " 3      1\n",
              " 4      1,\n",
              "    Score\n",
              " 0      1\n",
              " 1      1\n",
              " 2      1\n",
              " 3      1\n",
              " 4      1)"
            ]
          },
          "metadata": {
            "tags": []
          },
          "execution_count": 50
        }
      ]
    },
    {
      "cell_type": "markdown",
      "metadata": {
        "id": "SPgamx5lQIMi",
        "colab_type": "text"
      },
      "source": [
        "### 1-4 Train/Test set Label 분포 확인"
      ]
    },
    {
      "cell_type": "code",
      "metadata": {
        "id": "o--SLPJrQIMj",
        "colab_type": "code",
        "colab": {
          "base_uri": "https://localhost:8080/",
          "height": 312
        },
        "outputId": "4ee1974d-7035-4a43-c455-1066b3eb6f20"
      },
      "source": [
        "train_labels.describe(), test_labels.describe()"
      ],
      "execution_count": 53,
      "outputs": [
        {
          "output_type": "execute_result",
          "data": {
            "text/plain": [
              "(             Score\n",
              " count  1385.000000\n",
              " mean      1.414440\n",
              " std       0.740114\n",
              " min       1.000000\n",
              " 25%       1.000000\n",
              " 50%       1.000000\n",
              " 75%       2.000000\n",
              " max       4.000000,             Score\n",
              " count  343.000000\n",
              " mean     1.416910\n",
              " std      0.744143\n",
              " min      1.000000\n",
              " 25%      1.000000\n",
              " 50%      1.000000\n",
              " 75%      2.000000\n",
              " max      4.000000)"
            ]
          },
          "metadata": {
            "tags": []
          },
          "execution_count": 53
        }
      ]
    },
    {
      "cell_type": "markdown",
      "metadata": {
        "id": "tcsSExS1QIMn",
        "colab_type": "text"
      },
      "source": [
        "### 1-5 Normalization을 위한 Mean, std 확보"
      ]
    },
    {
      "cell_type": "code",
      "metadata": {
        "id": "cZ5uKayEQIMo",
        "colab_type": "code",
        "colab": {
          "base_uri": "https://localhost:8080/",
          "height": 243
        },
        "outputId": "f5bdf4ef-935e-4056-8c25-38dd4ca1a574"
      },
      "source": [
        "trainStatus = train_dataset.describe().transpose()\n",
        "trainStatus['mean'],trainStatus['std']"
      ],
      "execution_count": 54,
      "outputs": [
        {
          "output_type": "execute_result",
          "data": {
            "text/plain": [
              "(Price          2.871480\n",
              " Maintenance    2.515523\n",
              " Doors          3.470036\n",
              " Persons        3.701805\n",
              " Luggage        2.011552\n",
              " Safety         2.033935\n",
              " Name: mean, dtype: float64, Price          0.930040\n",
              " Maintenance    1.115419\n",
              " Doors          1.123516\n",
              " Persons        1.234688\n",
              " Luggage        0.816120\n",
              " Safety         0.817707\n",
              " Name: std, dtype: float64)"
            ]
          },
          "metadata": {
            "tags": []
          },
          "execution_count": 54
        }
      ]
    },
    {
      "cell_type": "markdown",
      "metadata": {
        "id": "g_KRR4RBQIMs",
        "colab_type": "text"
      },
      "source": [
        "### 1-6 Data Normalization"
      ]
    },
    {
      "cell_type": "code",
      "metadata": {
        "id": "3nghIMetQIMu",
        "colab_type": "code",
        "colab": {
          "base_uri": "https://localhost:8080/",
          "height": 206
        },
        "outputId": "edd5fb4a-4f8c-4a73-a297-f74c48c0bdc0"
      },
      "source": [
        "def normalizeData(x):\n",
        "\treturn (x - trainStatus['mean']) / trainStatus['std']\n",
        "\n",
        "normalized_train_data = normalizeData(train_dataset)\n",
        "normalized_test_data = normalizeData(test_dataset)\n",
        "normalized_train_data.head()"
      ],
      "execution_count": 55,
      "outputs": [
        {
          "output_type": "execute_result",
          "data": {
            "text/html": [
              "<div>\n",
              "<style scoped>\n",
              "    .dataframe tbody tr th:only-of-type {\n",
              "        vertical-align: middle;\n",
              "    }\n",
              "\n",
              "    .dataframe tbody tr th {\n",
              "        vertical-align: top;\n",
              "    }\n",
              "\n",
              "    .dataframe thead th {\n",
              "        text-align: right;\n",
              "    }\n",
              "</style>\n",
              "<table border=\"1\" class=\"dataframe\">\n",
              "  <thead>\n",
              "    <tr style=\"text-align: right;\">\n",
              "      <th></th>\n",
              "      <th>Price</th>\n",
              "      <th>Maintenance</th>\n",
              "      <th>Doors</th>\n",
              "      <th>Persons</th>\n",
              "      <th>Luggage</th>\n",
              "      <th>Safety</th>\n",
              "    </tr>\n",
              "  </thead>\n",
              "  <tbody>\n",
              "    <tr>\n",
              "      <th>0</th>\n",
              "      <td>1.213411</td>\n",
              "      <td>1.330869</td>\n",
              "      <td>-1.308425</td>\n",
              "      <td>-1.378328</td>\n",
              "      <td>-1.239466</td>\n",
              "      <td>-1.264432</td>\n",
              "    </tr>\n",
              "    <tr>\n",
              "      <th>1</th>\n",
              "      <td>1.213411</td>\n",
              "      <td>1.330869</td>\n",
              "      <td>-1.308425</td>\n",
              "      <td>-1.378328</td>\n",
              "      <td>-1.239466</td>\n",
              "      <td>-0.041500</td>\n",
              "    </tr>\n",
              "    <tr>\n",
              "      <th>2</th>\n",
              "      <td>1.213411</td>\n",
              "      <td>1.330869</td>\n",
              "      <td>-1.308425</td>\n",
              "      <td>-1.378328</td>\n",
              "      <td>-1.239466</td>\n",
              "      <td>1.181431</td>\n",
              "    </tr>\n",
              "    <tr>\n",
              "      <th>3</th>\n",
              "      <td>1.213411</td>\n",
              "      <td>1.330869</td>\n",
              "      <td>-0.418362</td>\n",
              "      <td>-1.378328</td>\n",
              "      <td>-1.239466</td>\n",
              "      <td>-1.264432</td>\n",
              "    </tr>\n",
              "    <tr>\n",
              "      <th>4</th>\n",
              "      <td>1.213411</td>\n",
              "      <td>1.330869</td>\n",
              "      <td>-0.418362</td>\n",
              "      <td>-1.378328</td>\n",
              "      <td>-1.239466</td>\n",
              "      <td>-0.041500</td>\n",
              "    </tr>\n",
              "  </tbody>\n",
              "</table>\n",
              "</div>"
            ],
            "text/plain": [
              "      Price  Maintenance     Doors   Persons   Luggage    Safety\n",
              "0  1.213411     1.330869 -1.308425 -1.378328 -1.239466 -1.264432\n",
              "1  1.213411     1.330869 -1.308425 -1.378328 -1.239466 -0.041500\n",
              "2  1.213411     1.330869 -1.308425 -1.378328 -1.239466  1.181431\n",
              "3  1.213411     1.330869 -0.418362 -1.378328 -1.239466 -1.264432\n",
              "4  1.213411     1.330869 -0.418362 -1.378328 -1.239466 -0.041500"
            ]
          },
          "metadata": {
            "tags": []
          },
          "execution_count": 55
        }
      ]
    },
    {
      "cell_type": "markdown",
      "metadata": {
        "id": "h11JfviaQIMz",
        "colab_type": "text"
      },
      "source": [
        "### 1-7 Build Model"
      ]
    },
    {
      "cell_type": "code",
      "metadata": {
        "id": "5ykkrWgZQIM0",
        "colab_type": "code",
        "colab": {}
      },
      "source": [
        "def build_model():\n",
        "\tmodel = keras.Sequential([\\\n",
        "\t\tlayers.Dense(64, activation=tf.nn.relu, input_shape=[6]),\\\n",
        "\t\tlayers.Dense(64, activation=tf.nn.relu),\\\n",
        "\t\tlayers.Dense(1)\n",
        "\t])\n",
        "\toptimizer = tf.keras.optimizers.RMSprop(0.001)\n",
        "\tmodel.compile(loss='mean_squared_error', \\\n",
        "                  optimizer=optimizer, metrics=['mean_absolute_error', 'mean_squared_error'])\n",
        "\treturn model"
      ],
      "execution_count": 0,
      "outputs": []
    },
    {
      "cell_type": "code",
      "metadata": {
        "id": "NwGs2VQ1QIM3",
        "colab_type": "code",
        "colab": {
          "base_uri": "https://localhost:8080/",
          "height": 89
        },
        "outputId": "ba738099-630b-459e-8c7f-44707a002f9b"
      },
      "source": [
        "model = build_model()"
      ],
      "execution_count": 57,
      "outputs": [
        {
          "output_type": "stream",
          "text": [
            "WARNING:tensorflow:From /usr/local/lib/python3.6/dist-packages/tensorflow/python/ops/init_ops.py:1251: calling VarianceScaling.__init__ (from tensorflow.python.ops.init_ops) with dtype is deprecated and will be removed in a future version.\n",
            "Instructions for updating:\n",
            "Call initializer instance with the dtype argument instead of passing it to the constructor\n"
          ],
          "name": "stdout"
        }
      ]
    },
    {
      "cell_type": "markdown",
      "metadata": {
        "id": "VvW-K3I0QIM7",
        "colab_type": "text"
      },
      "source": [
        "### 1-8 Model 확인, Example 실행"
      ]
    },
    {
      "cell_type": "code",
      "metadata": {
        "id": "CNSrozNaQIM8",
        "colab_type": "code",
        "colab": {
          "base_uri": "https://localhost:8080/",
          "height": 434
        },
        "outputId": "86ec0eb2-aa86-4c4c-a2a9-d752accf1e19"
      },
      "source": [
        "model.summary()\n",
        "example_batch = normalized_train_data[:10]\n",
        "example_result = model.predict(example_batch)\n",
        "example_result"
      ],
      "execution_count": 58,
      "outputs": [
        {
          "output_type": "stream",
          "text": [
            "Model: \"sequential\"\n",
            "_________________________________________________________________\n",
            "Layer (type)                 Output Shape              Param #   \n",
            "=================================================================\n",
            "dense (Dense)                (None, 64)                448       \n",
            "_________________________________________________________________\n",
            "dense_1 (Dense)              (None, 64)                4160      \n",
            "_________________________________________________________________\n",
            "dense_2 (Dense)              (None, 1)                 65        \n",
            "=================================================================\n",
            "Total params: 4,673\n",
            "Trainable params: 4,673\n",
            "Non-trainable params: 0\n",
            "_________________________________________________________________\n"
          ],
          "name": "stdout"
        },
        {
          "output_type": "execute_result",
          "data": {
            "text/plain": [
              "array([[0.38992482],\n",
              "       [0.22871496],\n",
              "       [0.12846401],\n",
              "       [0.35800594],\n",
              "       [0.23472455],\n",
              "       [0.12956616],\n",
              "       [0.42400748],\n",
              "       [0.26820743],\n",
              "       [0.10454684],\n",
              "       [0.46511415]], dtype=float32)"
            ]
          },
          "metadata": {
            "tags": []
          },
          "execution_count": 58
        }
      ]
    },
    {
      "cell_type": "markdown",
      "metadata": {
        "id": "U8mgBI-EQIM_",
        "colab_type": "text"
      },
      "source": [
        "### 1-9 Training 진행"
      ]
    },
    {
      "cell_type": "code",
      "metadata": {
        "id": "Vn8jOnvrQINA",
        "colab_type": "code",
        "colab": {
          "base_uri": "https://localhost:8080/",
          "height": 243
        },
        "outputId": "25003c69-47b9-4dfe-e159-7a079975dad8"
      },
      "source": [
        "class PrintDot(keras.callbacks.Callback):\n",
        "\tdef on_epoch_end(self, epoch, logs):\n",
        "\t\tif epoch % 100 == 0: print('')\n",
        "\t\tprint ('.', end='')\n",
        "        \n",
        "time_start = time.time()\n",
        "EPOCHS = 1000\n",
        "\n",
        "history = model.fit( normalized_train_data, train_labels, \\\n",
        "\tepochs=EPOCHS, validation_split=0.2, verbose=0, callbacks=[PrintDot()])\n",
        "\n",
        "print ('\\n\\nDone. Training Time : %0.3fs' %(time.time()-time_start))"
      ],
      "execution_count": 59,
      "outputs": [
        {
          "output_type": "stream",
          "text": [
            "\n",
            "....................................................................................................\n",
            "....................................................................................................\n",
            "....................................................................................................\n",
            "....................................................................................................\n",
            "....................................................................................................\n",
            "....................................................................................................\n",
            "....................................................................................................\n",
            "....................................................................................................\n",
            "....................................................................................................\n",
            "....................................................................................................\n",
            "\n",
            "Done. Training Time : 48.688s\n"
          ],
          "name": "stdout"
        }
      ]
    },
    {
      "cell_type": "markdown",
      "metadata": {
        "id": "2bFvO-aYQINF",
        "colab_type": "text"
      },
      "source": [
        "### 1-10 정확도 확인"
      ]
    },
    {
      "cell_type": "code",
      "metadata": {
        "id": "8A7bJbWZQING",
        "colab_type": "code",
        "colab": {
          "base_uri": "https://localhost:8080/",
          "height": 206
        },
        "outputId": "a9140a47-65b1-430d-afb6-d56aa58015e2"
      },
      "source": [
        "hist = pd.DataFrame(history.history)\n",
        "hist['epoch'] = history.epoch\n",
        "hist.tail()"
      ],
      "execution_count": 60,
      "outputs": [
        {
          "output_type": "execute_result",
          "data": {
            "text/html": [
              "<div>\n",
              "<style scoped>\n",
              "    .dataframe tbody tr th:only-of-type {\n",
              "        vertical-align: middle;\n",
              "    }\n",
              "\n",
              "    .dataframe tbody tr th {\n",
              "        vertical-align: top;\n",
              "    }\n",
              "\n",
              "    .dataframe thead th {\n",
              "        text-align: right;\n",
              "    }\n",
              "</style>\n",
              "<table border=\"1\" class=\"dataframe\">\n",
              "  <thead>\n",
              "    <tr style=\"text-align: right;\">\n",
              "      <th></th>\n",
              "      <th>loss</th>\n",
              "      <th>mean_absolute_error</th>\n",
              "      <th>mean_squared_error</th>\n",
              "      <th>val_loss</th>\n",
              "      <th>val_mean_absolute_error</th>\n",
              "      <th>val_mean_squared_error</th>\n",
              "      <th>epoch</th>\n",
              "    </tr>\n",
              "  </thead>\n",
              "  <tbody>\n",
              "    <tr>\n",
              "      <th>995</th>\n",
              "      <td>0.000898</td>\n",
              "      <td>0.020054</td>\n",
              "      <td>0.000898</td>\n",
              "      <td>0.296430</td>\n",
              "      <td>0.411958</td>\n",
              "      <td>0.296430</td>\n",
              "      <td>995</td>\n",
              "    </tr>\n",
              "    <tr>\n",
              "      <th>996</th>\n",
              "      <td>0.001161</td>\n",
              "      <td>0.022105</td>\n",
              "      <td>0.001161</td>\n",
              "      <td>0.262903</td>\n",
              "      <td>0.385488</td>\n",
              "      <td>0.262903</td>\n",
              "      <td>996</td>\n",
              "    </tr>\n",
              "    <tr>\n",
              "      <th>997</th>\n",
              "      <td>0.000800</td>\n",
              "      <td>0.018955</td>\n",
              "      <td>0.000800</td>\n",
              "      <td>0.266076</td>\n",
              "      <td>0.387658</td>\n",
              "      <td>0.266076</td>\n",
              "      <td>997</td>\n",
              "    </tr>\n",
              "    <tr>\n",
              "      <th>998</th>\n",
              "      <td>0.001049</td>\n",
              "      <td>0.020728</td>\n",
              "      <td>0.001049</td>\n",
              "      <td>0.280955</td>\n",
              "      <td>0.397600</td>\n",
              "      <td>0.280955</td>\n",
              "      <td>998</td>\n",
              "    </tr>\n",
              "    <tr>\n",
              "      <th>999</th>\n",
              "      <td>0.000825</td>\n",
              "      <td>0.018734</td>\n",
              "      <td>0.000825</td>\n",
              "      <td>0.260122</td>\n",
              "      <td>0.385685</td>\n",
              "      <td>0.260122</td>\n",
              "      <td>999</td>\n",
              "    </tr>\n",
              "  </tbody>\n",
              "</table>\n",
              "</div>"
            ],
            "text/plain": [
              "         loss  mean_absolute_error  ...  val_mean_squared_error  epoch\n",
              "995  0.000898             0.020054  ...                0.296430    995\n",
              "996  0.001161             0.022105  ...                0.262903    996\n",
              "997  0.000800             0.018955  ...                0.266076    997\n",
              "998  0.001049             0.020728  ...                0.280955    998\n",
              "999  0.000825             0.018734  ...                0.260122    999\n",
              "\n",
              "[5 rows x 7 columns]"
            ]
          },
          "metadata": {
            "tags": []
          },
          "execution_count": 60
        }
      ]
    },
    {
      "cell_type": "code",
      "metadata": {
        "id": "E6AZkTNYQINK",
        "colab_type": "code",
        "colab": {}
      },
      "source": [
        "import matplotlib.pyplot as plt\n",
        "\n",
        "def plot_history(history):\n",
        "\thist = pd.DataFrame(history.history)\n",
        "\thist['epoch'] = history.epoch\n",
        "\n",
        "\tplt.figure(figsize=(8,12))\n",
        "\n",
        "\tplt.subplot(2,1,1)\n",
        "\tplt.xlabel('Epoch')\n",
        "\tplt.ylabel('Mean Abs Error')\n",
        "\tplt.plot(hist['epoch'], hist['mean_absolute_error'], label='Train Error')\n",
        "\tplt.plot(hist['epoch'], hist['val_mean_absolute_error'], label = 'Val Error')\n",
        "\tplt.ylim([0,0.8])\n",
        "\tplt.legend()\n",
        "\n",
        "\tplt.subplot(2,1,2)\n",
        "\tplt.xlabel('Epoch')\n",
        "\tplt.ylabel('Mean Square Error')\n",
        "\tplt.plot(hist['epoch'], hist['mean_squared_error'], label='Train Error')\n",
        "\tplt.plot(hist['epoch'], hist['val_mean_squared_error'], label = 'Val Error')\n",
        "\tplt.ylim([0,1])\n",
        "\tplt.legend()\n",
        "\tplt.show()\n"
      ],
      "execution_count": 0,
      "outputs": []
    },
    {
      "cell_type": "code",
      "metadata": {
        "id": "NFgiIyxvQINN",
        "colab_type": "code",
        "colab": {
          "base_uri": "https://localhost:8080/",
          "height": 718
        },
        "outputId": "bb3e79ca-e06f-409f-d381-3bcdb9bb19ad"
      },
      "source": [
        "plot_history(history)"
      ],
      "execution_count": 62,
      "outputs": [
        {
          "output_type": "display_data",
          "data": {
            "image/png": "[encoded data removed]",
            "text/plain": [
              "<Figure size 576x864 with 2 Axes>"
            ]
          },
          "metadata": {
            "tags": []
          }
        }
      ]
    },
    {
      "cell_type": "markdown",
      "metadata": {
        "id": "F2-03-xWQINR",
        "colab_type": "text"
      },
      "source": [
        "### 1-11 Early Stop을 적용한 Training 횟수 줄이기"
      ]
    },
    {
      "cell_type": "code",
      "metadata": {
        "id": "IA7S-fl7QINS",
        "colab_type": "code",
        "colab": {
          "base_uri": "https://localhost:8080/",
          "height": 787
        },
        "outputId": "906c9059-dfe9-4501-a9e7-781ea1a50525"
      },
      "source": [
        "model = build_model()\n",
        "early_stop = keras.callbacks.EarlyStopping(monitor='val_loss', patience=10)\n",
        "\n",
        "history = model.fit(normalized_train_data, train_labels, epochs=EPOCHS,\\\n",
        "\tvalidation_split = 0.2, verbose=0, callbacks=[early_stop, PrintDot()])\n",
        "\n",
        "time_start = time.time()\t\n",
        "print ('\\n\\nDone. Training Time : %0.3fs' %(time.time()-time_start))\n",
        "plot_history(history)"
      ],
      "execution_count": 63,
      "outputs": [
        {
          "output_type": "stream",
          "text": [
            "\n",
            ".........................\n",
            "\n",
            "Done. Training Time : 0.000s\n"
          ],
          "name": "stdout"
        },
        {
          "output_type": "display_data",
          "data": {
            "image/png": "[encoded data removed]",
            "text/plain": [
              "<Figure size 576x864 with 2 Axes>"
            ]
          },
          "metadata": {
            "tags": []
          }
        }
      ]
    },
    {
      "cell_type": "markdown",
      "metadata": {
        "id": "72PtIoYGQINV",
        "colab_type": "text"
      },
      "source": [
        "### 1-12 Test set 적용 예측 결과"
      ]
    },
    {
      "cell_type": "code",
      "metadata": {
        "id": "BQmLFiq2QINY",
        "colab_type": "code",
        "colab": {
          "base_uri": "https://localhost:8080/",
          "height": 34
        },
        "outputId": "adfbe452-c28f-4e0a-b3f5-07f44dbded43"
      },
      "source": [
        "loss, mae, mse = model.evaluate(normalized_test_data, test_labels, verbose=0)\n",
        "print(\"테스트 세트의 평균 절대 오차: {:5.2f} \".format(mae))"
      ],
      "execution_count": 64,
      "outputs": [
        {
          "output_type": "stream",
          "text": [
            "테스트 세트의 평균 절대 오차:  0.36 \n"
          ],
          "name": "stdout"
        }
      ]
    },
    {
      "cell_type": "markdown",
      "metadata": {
        "id": "oWCmGZ7DQINb",
        "colab_type": "text"
      },
      "source": [
        "### 1-13 예측 결과 비교 Plotting (오차분포확인)"
      ]
    },
    {
      "cell_type": "code",
      "metadata": {
        "id": "2cLR8ENnQINb",
        "colab_type": "code",
        "colab": {
          "base_uri": "https://localhost:8080/",
          "height": 300
        },
        "outputId": "62e37a32-d7e9-4ac9-dbf8-28e720ffe417"
      },
      "source": [
        "test_predictions = model.predict(normalized_test_data).flatten()\n",
        "\n",
        "plt.scatter(test_labels.loc[:,'Score'], test_predictions)\n",
        "plt.xlabel('True')\n",
        "plt.ylabel('Predictions')\n",
        "plt.axis('equal')\n",
        "plt.axis('square')\n",
        "plt.xlim([0,plt.xlim()[1]])\n",
        "plt.ylim([0,plt.ylim()[1]])\n",
        "plt.plot([-100,100], [-100,100])"
      ],
      "execution_count": 65,
      "outputs": [
        {
          "output_type": "execute_result",
          "data": {
            "text/plain": [
              "[<matplotlib.lines.Line2D at 0x7fc664ab40b8>]"
            ]
          },
          "metadata": {
            "tags": []
          },
          "execution_count": 65
        },
        {
          "output_type": "display_data",
          "data": {
            "image/png": "[encoded data removed]",
            "text/plain": [
              "<Figure size 432x288 with 1 Axes>"
            ]
          },
          "metadata": {
            "tags": []
          }
        }
      ]
    },
    {
      "cell_type": "markdown",
      "metadata": {
        "id": "xhkSvDz6QINh",
        "colab_type": "text"
      },
      "source": [
        "# ## =======================================================\n",
        "# ## 2. Classification 으로 전환하여 Model 학습 및 예측 진행해보기\n",
        "# ## ======================================================="
      ]
    },
    {
      "cell_type": "markdown",
      "metadata": {
        "id": "NKKgOF84QINi",
        "colab_type": "text"
      },
      "source": [
        "### 2-1 Train, Test Label data를 One-hot encoding으로 변환"
      ]
    },
    {
      "cell_type": "code",
      "metadata": {
        "id": "cy3Tk_oIQINj",
        "colab_type": "code",
        "colab": {}
      },
      "source": [
        "import copy\n",
        "\n",
        "train_labels_cls = copy.deepcopy(train_labels)\n",
        "test_labels_cls = copy.deepcopy(test_labels)\n",
        "\n",
        "train_labels_cls['unacc'] = (train_labels_cls['Score'] == 1)*1.0\n",
        "train_labels_cls['acc'] = (train_labels_cls['Score'] == 2)*1.0\n",
        "train_labels_cls['good'] = (train_labels_cls['Score'] == 3)*1.0\n",
        "train_labels_cls['vgood'] = (train_labels_cls['Score'] == 4)*1.0\n",
        "\n",
        "test_labels_cls['unacc'] = (test_labels_cls['Score'] == 1)*1.0\n",
        "test_labels_cls['acc'] = (test_labels_cls['Score'] == 2)*1.0\n",
        "test_labels_cls['good'] = (test_labels_cls['Score'] == 3)*1.0\n",
        "test_labels_cls['vgood'] = (test_labels_cls['Score'] == 4)*1.0\n",
        "\n",
        "_ = train_labels_cls.pop('Score')\n",
        "_ = test_labels_cls.pop('Score')"
      ],
      "execution_count": 0,
      "outputs": []
    },
    {
      "cell_type": "code",
      "metadata": {
        "id": "fwpu8dJMQINl",
        "colab_type": "code",
        "colab": {
          "base_uri": "https://localhost:8080/",
          "height": 206
        },
        "outputId": "ec9ae9fd-70f1-41eb-a5fd-07415dade230"
      },
      "source": [
        "train_labels_cls.tail()"
      ],
      "execution_count": 67,
      "outputs": [
        {
          "output_type": "execute_result",
          "data": {
            "text/html": [
              "<div>\n",
              "<style scoped>\n",
              "    .dataframe tbody tr th:only-of-type {\n",
              "        vertical-align: middle;\n",
              "    }\n",
              "\n",
              "    .dataframe tbody tr th {\n",
              "        vertical-align: top;\n",
              "    }\n",
              "\n",
              "    .dataframe thead th {\n",
              "        text-align: right;\n",
              "    }\n",
              "</style>\n",
              "<table border=\"1\" class=\"dataframe\">\n",
              "  <thead>\n",
              "    <tr style=\"text-align: right;\">\n",
              "      <th></th>\n",
              "      <th>unacc</th>\n",
              "      <th>acc</th>\n",
              "      <th>good</th>\n",
              "      <th>vgood</th>\n",
              "    </tr>\n",
              "  </thead>\n",
              "  <tbody>\n",
              "    <tr>\n",
              "      <th>1380</th>\n",
              "      <td>0.0</td>\n",
              "      <td>0.0</td>\n",
              "      <td>0.0</td>\n",
              "      <td>1.0</td>\n",
              "    </tr>\n",
              "    <tr>\n",
              "      <th>1381</th>\n",
              "      <td>0.0</td>\n",
              "      <td>0.0</td>\n",
              "      <td>0.0</td>\n",
              "      <td>1.0</td>\n",
              "    </tr>\n",
              "    <tr>\n",
              "      <th>1382</th>\n",
              "      <td>0.0</td>\n",
              "      <td>0.0</td>\n",
              "      <td>0.0</td>\n",
              "      <td>1.0</td>\n",
              "    </tr>\n",
              "    <tr>\n",
              "      <th>1383</th>\n",
              "      <td>0.0</td>\n",
              "      <td>0.0</td>\n",
              "      <td>0.0</td>\n",
              "      <td>1.0</td>\n",
              "    </tr>\n",
              "    <tr>\n",
              "      <th>1384</th>\n",
              "      <td>0.0</td>\n",
              "      <td>0.0</td>\n",
              "      <td>0.0</td>\n",
              "      <td>1.0</td>\n",
              "    </tr>\n",
              "  </tbody>\n",
              "</table>\n",
              "</div>"
            ],
            "text/plain": [
              "      unacc  acc  good  vgood\n",
              "1380    0.0  0.0   0.0    1.0\n",
              "1381    0.0  0.0   0.0    1.0\n",
              "1382    0.0  0.0   0.0    1.0\n",
              "1383    0.0  0.0   0.0    1.0\n",
              "1384    0.0  0.0   0.0    1.0"
            ]
          },
          "metadata": {
            "tags": []
          },
          "execution_count": 67
        }
      ]
    },
    {
      "cell_type": "code",
      "metadata": {
        "id": "nKFzW5obQINo",
        "colab_type": "code",
        "colab": {
          "base_uri": "https://localhost:8080/",
          "height": 206
        },
        "outputId": "ea5830f3-e4f7-42b8-bfd6-e09c2ce81b02"
      },
      "source": [
        "test_labels_cls.tail()"
      ],
      "execution_count": 68,
      "outputs": [
        {
          "output_type": "execute_result",
          "data": {
            "text/html": [
              "<div>\n",
              "<style scoped>\n",
              "    .dataframe tbody tr th:only-of-type {\n",
              "        vertical-align: middle;\n",
              "    }\n",
              "\n",
              "    .dataframe tbody tr th {\n",
              "        vertical-align: top;\n",
              "    }\n",
              "\n",
              "    .dataframe thead th {\n",
              "        text-align: right;\n",
              "    }\n",
              "</style>\n",
              "<table border=\"1\" class=\"dataframe\">\n",
              "  <thead>\n",
              "    <tr style=\"text-align: right;\">\n",
              "      <th></th>\n",
              "      <th>unacc</th>\n",
              "      <th>acc</th>\n",
              "      <th>good</th>\n",
              "      <th>vgood</th>\n",
              "    </tr>\n",
              "  </thead>\n",
              "  <tbody>\n",
              "    <tr>\n",
              "      <th>338</th>\n",
              "      <td>0.0</td>\n",
              "      <td>0.0</td>\n",
              "      <td>0.0</td>\n",
              "      <td>1.0</td>\n",
              "    </tr>\n",
              "    <tr>\n",
              "      <th>339</th>\n",
              "      <td>0.0</td>\n",
              "      <td>0.0</td>\n",
              "      <td>0.0</td>\n",
              "      <td>1.0</td>\n",
              "    </tr>\n",
              "    <tr>\n",
              "      <th>340</th>\n",
              "      <td>0.0</td>\n",
              "      <td>0.0</td>\n",
              "      <td>0.0</td>\n",
              "      <td>1.0</td>\n",
              "    </tr>\n",
              "    <tr>\n",
              "      <th>341</th>\n",
              "      <td>0.0</td>\n",
              "      <td>0.0</td>\n",
              "      <td>0.0</td>\n",
              "      <td>1.0</td>\n",
              "    </tr>\n",
              "    <tr>\n",
              "      <th>342</th>\n",
              "      <td>0.0</td>\n",
              "      <td>0.0</td>\n",
              "      <td>0.0</td>\n",
              "      <td>1.0</td>\n",
              "    </tr>\n",
              "  </tbody>\n",
              "</table>\n",
              "</div>"
            ],
            "text/plain": [
              "     unacc  acc  good  vgood\n",
              "338    0.0  0.0   0.0    1.0\n",
              "339    0.0  0.0   0.0    1.0\n",
              "340    0.0  0.0   0.0    1.0\n",
              "341    0.0  0.0   0.0    1.0\n",
              "342    0.0  0.0   0.0    1.0"
            ]
          },
          "metadata": {
            "tags": []
          },
          "execution_count": 68
        }
      ]
    },
    {
      "cell_type": "markdown",
      "metadata": {
        "id": "AnnRaeY8QINr",
        "colab_type": "text"
      },
      "source": [
        "### 2-2 Modeling 진행 (Label이 4개므로 마지막 layer는 4로 설정)"
      ]
    },
    {
      "cell_type": "code",
      "metadata": {
        "id": "r0A_sIncQINr",
        "colab_type": "code",
        "colab": {
          "base_uri": "https://localhost:8080/",
          "height": 434
        },
        "outputId": "86ca6838-bc73-4fa5-e9ef-4e4039bc6002"
      },
      "source": [
        "def build_model2():\n",
        "\tmodel = keras.Sequential([\\\n",
        "\t\tlayers.Dense(64, activation=tf.nn.relu, input_shape=[6]),\\\n",
        "\t\tlayers.Dense(64, activation=tf.nn.relu),\\\n",
        "\t\tlayers.Dense(4, activation=tf.nn.relu)\n",
        "\t])\n",
        "\n",
        "\toptimizer = tf.keras.optimizers.RMSprop(0.001)\n",
        "\n",
        "\tif True:\n",
        "\t\tmodel.compile(loss='mean_squared_error', \\\n",
        "\t\t\toptimizer=optimizer, metrics=['mean_absolute_error', 'mean_squared_error'])\n",
        "\n",
        "\telse:\n",
        "\t\tmodel.compile(loss='sparse_categorical_crossentropy', \\\n",
        "\t\t\toptimizer=optimizer, metrics=['accuracy'])\n",
        "\n",
        "\treturn model\n",
        "\n",
        "model2 = build_model2()\n",
        "\n",
        "model2.summary()\n",
        "\n",
        "example_batch = normalized_train_data[:10]\n",
        "example_result = model2.predict(example_batch)\n",
        "example_result\n"
      ],
      "execution_count": 69,
      "outputs": [
        {
          "output_type": "stream",
          "text": [
            "Model: \"sequential_2\"\n",
            "_________________________________________________________________\n",
            "Layer (type)                 Output Shape              Param #   \n",
            "=================================================================\n",
            "dense_6 (Dense)              (None, 64)                448       \n",
            "_________________________________________________________________\n",
            "dense_7 (Dense)              (None, 64)                4160      \n",
            "_________________________________________________________________\n",
            "dense_8 (Dense)              (None, 4)                 260       \n",
            "=================================================================\n",
            "Total params: 4,868\n",
            "Trainable params: 4,868\n",
            "Non-trainable params: 0\n",
            "_________________________________________________________________\n"
          ],
          "name": "stdout"
        },
        {
          "output_type": "execute_result",
          "data": {
            "text/plain": [
              "array([[0.21497518, 0.        , 0.        , 0.        ],\n",
              "       [0.02338905, 0.        , 0.        , 0.        ],\n",
              "       [0.        , 0.        , 0.        , 0.14492467],\n",
              "       [0.26013416, 0.        , 0.        , 0.        ],\n",
              "       [0.12023705, 0.        , 0.        , 0.01822025],\n",
              "       [0.        , 0.        , 0.        , 0.33372384],\n",
              "       [0.34181556, 0.        , 0.        , 0.        ],\n",
              "       [0.24371593, 0.        , 0.        , 0.16307391],\n",
              "       [0.0815184 , 0.        , 0.        , 0.4604669 ],\n",
              "       [0.380403  , 0.        , 0.        , 0.08300653]], dtype=float32)"
            ]
          },
          "metadata": {
            "tags": []
          },
          "execution_count": 69
        }
      ]
    },
    {
      "cell_type": "markdown",
      "metadata": {
        "id": "zwG_yiVjQINu",
        "colab_type": "text"
      },
      "source": [
        "### 2-3 Build Model"
      ]
    },
    {
      "cell_type": "code",
      "metadata": {
        "id": "uA6Tg335QINv",
        "colab_type": "code",
        "colab": {
          "base_uri": "https://localhost:8080/",
          "height": 787
        },
        "outputId": "83bf8e47-5ed5-4454-e6ee-27781a6f23f3"
      },
      "source": [
        "EPOCHS = 1000\n",
        "\n",
        "early_stop = keras.callbacks.EarlyStopping(monitor='val_loss', patience=10)\n",
        "\n",
        "history = model2.fit(normalized_train_data, train_labels_cls, epochs=EPOCHS,\\\n",
        "\tvalidation_split = 0.2, verbose=0, callbacks=[early_stop, PrintDot()])\n",
        "\n",
        "time_start = time.time()\t\n",
        "print ('\\n\\nDone. %0.3fs' %(time.time()-time_start))\n",
        "plot_history(history)"
      ],
      "execution_count": 70,
      "outputs": [
        {
          "output_type": "stream",
          "text": [
            "\n",
            ".........................\n",
            "\n",
            "Done. 0.000s\n"
          ],
          "name": "stdout"
        },
        {
          "output_type": "display_data",
          "data": {
            "image/png": "[encoded data removed]",
            "text/plain": [
              "<Figure size 576x864 with 2 Axes>"
            ]
          },
          "metadata": {
            "tags": []
          }
        }
      ]
    },
    {
      "cell_type": "markdown",
      "metadata": {
        "id": "Vn6Z0jDnQINx",
        "colab_type": "text"
      },
      "source": [
        "### 2-4 Test set 적용 예측 결과"
      ]
    },
    {
      "cell_type": "code",
      "metadata": {
        "id": "XihbYAr_QINx",
        "colab_type": "code",
        "colab": {
          "base_uri": "https://localhost:8080/",
          "height": 34
        },
        "outputId": "8a87e350-b74b-476b-ddff-86bf1c01b02a"
      },
      "source": [
        "loss, mae, mse = model2.evaluate(normalized_test_data, test_labels_cls, verbose=0)\n",
        "print(\"테스트 세트의 평균 절대 오차: {:5.2f} \".format(mae))"
      ],
      "execution_count": 71,
      "outputs": [
        {
          "output_type": "stream",
          "text": [
            "테스트 세트의 평균 절대 오차:  0.10 \n"
          ],
          "name": "stdout"
        }
      ]
    },
    {
      "cell_type": "markdown",
      "metadata": {
        "id": "pzoQ8lC1QIN1",
        "colab_type": "text"
      },
      "source": [
        "### 2-5 One-hot 인코딩으로 나눈 것을 다시 Score label로 변경함"
      ]
    },
    {
      "cell_type": "code",
      "metadata": {
        "id": "ufxAqen3QIN2",
        "colab_type": "code",
        "colab": {}
      },
      "source": [
        "import numpy as np\n",
        "\n",
        "test_predictions = model2.predict(normalized_test_data)#.flatten()\n",
        "\n",
        "## 각각의 예측값을 합친 값\n",
        "test_predictions_cls = 1*test_predictions[:,0] + 2*test_predictions[:,1] \\\n",
        "\t+ 3*test_predictions[:,2] + 4*test_predictions[:,3]\n",
        "\n",
        "## 최대 값을 가진 label 기준으로 Score 설정\n",
        "test_predictions_cls2 = np.argmax(test_predictions, axis=1) + 1 "
      ],
      "execution_count": 0,
      "outputs": []
    },
    {
      "cell_type": "markdown",
      "metadata": {
        "id": "b5KOi9TIQIN5",
        "colab_type": "text"
      },
      "source": [
        "### 2-6 예측한 값을 Score 값으로 변경하여 관측값이 얼마나 일치하는 확인하는 방식으로 정확도 체크"
      ]
    },
    {
      "cell_type": "code",
      "metadata": {
        "id": "XEM_eyxsQIN5",
        "colab_type": "code",
        "colab": {
          "base_uri": "https://localhost:8080/",
          "height": 34
        },
        "outputId": "9bd2192e-96ec-4aa6-e8ba-83c6b9e7c9fb"
      },
      "source": [
        "test_labels_cls['Score'] = 1*test_labels_cls['unacc'] + 2*test_labels_cls['acc'] \\\n",
        "\t+ 3*test_labels_cls['good'] + 4*test_labels_cls['vgood']\n",
        "\n",
        "chkarr = test_labels_cls['Score'] - test_predictions_cls2\n",
        "\n",
        "cnt = 0\n",
        "for c in chkarr:\n",
        "\tif int(c) == 0:\n",
        "\t\tcnt += 1\n",
        "\n",
        "print ('Accuracy of Score : %0.3f ' %(cnt / len(chkarr)))"
      ],
      "execution_count": 73,
      "outputs": [
        {
          "output_type": "stream",
          "text": [
            "Accuracy of Score : 0.889 \n"
          ],
          "name": "stdout"
        }
      ]
    },
    {
      "cell_type": "markdown",
      "metadata": {
        "id": "56joiPjWQIN9",
        "colab_type": "text"
      },
      "source": [
        "### 2-7 예측값들을 다 합쳐서 실제 Score 관측값과 비교하여 plotting"
      ]
    },
    {
      "cell_type": "code",
      "metadata": {
        "id": "5qL70_S8QIN9",
        "colab_type": "code",
        "colab": {
          "base_uri": "https://localhost:8080/",
          "height": 300
        },
        "outputId": "772e8b10-7761-49e0-cfbd-7a3ccc5241d1"
      },
      "source": [
        "plt.scatter(test_labels_cls.loc[:,'Score'], test_predictions_cls)\n",
        "plt.xlabel('True')\n",
        "plt.ylabel('Predictions')\n",
        "plt.axis('equal')\n",
        "plt.axis('square')\n",
        "plt.xlim([-1,plt.xlim()[1]])\n",
        "plt.ylim([-1,plt.ylim()[1]])\n",
        "plt.plot([-100,100], [-100,100])"
      ],
      "execution_count": 74,
      "outputs": [
        {
          "output_type": "execute_result",
          "data": {
            "text/plain": [
              "[<matplotlib.lines.Line2D at 0x7fc65982c780>]"
            ]
          },
          "metadata": {
            "tags": []
          },
          "execution_count": 74
        },
        {
          "output_type": "display_data",
          "data": {
            "image/png": "[encoded data removed]",
            "text/plain": [
              "<Figure size 432x288 with 1 Axes>"
            ]
          },
          "metadata": {
            "tags": []
          }
        }
      ]
    },
    {
      "cell_type": "code",
      "metadata": {
        "id": "tZUB7QHuQIOA",
        "colab_type": "code",
        "colab": {}
      },
      "source": [
        ""
      ],
      "execution_count": 0,
      "outputs": []
    }
  ]
}