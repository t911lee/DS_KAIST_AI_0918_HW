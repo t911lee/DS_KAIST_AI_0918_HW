{
 "cells": [
  {
   "cell_type": "code",
   "execution_count": 60,
   "metadata": {},
   "outputs": [],
   "source": [
    "#-*- coding:utf-8 -*-"
   ]
  },
  {
   "cell_type": "markdown",
   "metadata": {},
   "source": [
    "# HW_0918 Regression 학습 모델 및 예측 진행 (이태헌)\n",
    "## 1. Data Set\n",
    "#####   - 자동차의 가격, 정비비용, 도어수, 인원수, 트렁크 크기, 안전도에 따라 4개의 추천 등급으로 나눔\n",
    "#####   - 추천 등급 분포(unacc: 70%, acc: 22.2%, good: 4%, very good: 3.7%)에 따라 \n",
    "#####        training과 test에 동일 분포를 가지도록 인위적으로 data를 정리하여\n",
    "#####        각각 0918_car_training.csv(1385개), 0918_car_test.csv(343개) 파일로 사전 준비함\n",
    "## 2. 진행\n",
    "#####   - 1차로 기존 수업에서 진행된 방식을 따라함\n",
    "#####   - Normalization, Modeling, Training, Prediction Plotting 진행\n",
    "#####   - 기본 진행 후 Early stop을 통한 training 감소 확인함\n",
    "## 3. 도전\n",
    "#####   - 수업 중 진행된 One-hot 인코딩 방식이 향후 쓸모가 많을 것이라 생각하여 추가 진행함\n",
    "#####   - 숫자로 적용된 4개의 추천등급을 4개 category로 나누어서 마지막 layer 출력을 4개로 설정하고 진행함\n",
    "#####   - Label의 수가 4개로 늘어났으므로 그대로 기존 진행한 Prediction plotting을 통해 결과를 확인해보고,\n",
    "#####   - 4개 Label을 하나의 값(최초 추천등급)으로 정리하여 일치 여부에 따른 정확도 확인함(정확도 81%).\n",
    "## 4. 계획\n",
    "#####   - 추가로 softmax를 활용한 modeling이 효과적이라고 판단되어 진행해볼 예정임"
   ]
  },
  {
   "cell_type": "code",
   "execution_count": 59,
   "metadata": {},
   "outputs": [],
   "source": [
    "import os\n",
    "import sys\n",
    "import pathlib\n",
    "import numpy as np\n",
    "import time\n",
    "\n",
    "import matplotlib.pyplot as plt\n",
    "import pandas as pd\n",
    "import seaborn as sns\n",
    "\n",
    "import tensorflow as tf\n",
    "from tensorflow import keras\n",
    "from tensorflow.keras import layers\n",
    "\n",
    "from __future__ import absolute_import, division, print_function, unicode_literals, unicode_literals"
   ]
  },
  {
   "cell_type": "code",
   "execution_count": 2,
   "metadata": {},
   "outputs": [
    {
     "name": "stdout",
     "output_type": "stream",
     "text": [
      "C:\\ProjectSky\\AI_KAIST\\HW_0918_MLP_BP\n"
     ]
    }
   ],
   "source": [
    "print (os.getcwd())"
   ]
  },
  {
   "cell_type": "code",
   "execution_count": 4,
   "metadata": {},
   "outputs": [],
   "source": [
    "\n",
    "try:\n",
    "\tos.chdir(os.path.join(os.getcwd(), 'AI_KAIST\\\\HW_0918_MLP_BP'))\n",
    "\tprint(os.getcwd())\n",
    "except:\n",
    "\tpass\n"
   ]
  },
  {
   "cell_type": "markdown",
   "metadata": {},
   "source": [
    " ## =======================================================\n",
    " ## 1. Regeression Modeling, Training, Prediction 진행\n",
    " ## ======================================================="
   ]
  },
  {
   "cell_type": "markdown",
   "metadata": {},
   "source": [
    "### 1-1 데이터 가져오기 < Car Score Data >"
   ]
  },
  {
   "cell_type": "code",
   "execution_count": 5,
   "metadata": {},
   "outputs": [
    {
     "name": "stdout",
     "output_type": "stream",
     "text": [
      "colNames : ['Price', 'Maintenance', 'Doors', 'Persons', 'Luggage', 'Safety', 'Score']\n"
     ]
    }
   ],
   "source": [
    "## Getting Data ##\n",
    "trainfilepath = os.path.join(os.getcwd(), '0918_car_train.csv')\n",
    "testfilepath = os.path.join(os.getcwd(), '0918_car_test.csv')\n",
    "traindata = pd.read_csv(trainfilepath)\n",
    "testdata = pd.read_csv(testfilepath)\n",
    "\n",
    "colNames = [ x for x in traindata.columns ]\n",
    "print ('colNames :', colNames)\n"
   ]
  },
  {
   "cell_type": "markdown",
   "metadata": {},
   "source": [
    "### 1-2 Train set / Test set 지정하기"
   ]
  },
  {
   "cell_type": "code",
   "execution_count": 30,
   "metadata": {},
   "outputs": [],
   "source": [
    "\n",
    "features = ['Price','Maintenance','Doors','Persons','Luggage','Safety']\n",
    "labels = ['Score']\n",
    "\n",
    "\n",
    "train_dataset = traindata.loc[:,features]\n",
    "test_dataset = testdata.loc[:,features]\n",
    "\n",
    "train_labels = traindata.loc[:,labels]\n",
    "test_labels = testdata.loc[:,labels]\n"
   ]
  },
  {
   "cell_type": "markdown",
   "metadata": {},
   "source": [
    "### 1-3 Train set, Test set 확인하기"
   ]
  },
  {
   "cell_type": "code",
   "execution_count": 7,
   "metadata": {},
   "outputs": [
    {
     "data": {
      "text/plain": [
       "(   Price  Maintenance  Doors  Persons  Luggage  Safety\n",
       " 0      4            4      2        2        1       1\n",
       " 1      4            4      2        2        1       2\n",
       " 2      4            4      2        2        1       3\n",
       " 3      4            4      3        2        1       1\n",
       " 4      4            4      3        2        1       2,\n",
       "    Price  Maintenance  Doors  Persons  Luggage  Safety\n",
       " 0      1            4      2        5        2       2\n",
       " 1      1            4      2        5        3       1\n",
       " 2      1            4      3        2        1       1\n",
       " 3      1            4      3        2        1       2\n",
       " 4      1            4      3        2        1       3,\n",
       "    Score\n",
       " 0      1\n",
       " 1      1\n",
       " 2      1\n",
       " 3      1\n",
       " 4      1,\n",
       "    Score\n",
       " 0      1\n",
       " 1      1\n",
       " 2      1\n",
       " 3      1\n",
       " 4      1)"
      ]
     },
     "execution_count": 7,
     "metadata": {},
     "output_type": "execute_result"
    }
   ],
   "source": [
    "\n",
    "train_dataset.head(),test_dataset.head(),train_labels.head(),test_labels.head()\n"
   ]
  },
  {
   "cell_type": "markdown",
   "metadata": {},
   "source": [
    "### 1-4 Train/Test set Label 분포 확인"
   ]
  },
  {
   "cell_type": "code",
   "execution_count": 8,
   "metadata": {},
   "outputs": [
    {
     "data": {
      "text/plain": [
       "(             Score\n",
       " count  1385.000000\n",
       " mean      1.414440\n",
       " std       0.740114\n",
       " min       1.000000\n",
       " 25%       1.000000\n",
       " 50%       1.000000\n",
       " 75%       2.000000\n",
       " max       4.000000,             Score\n",
       " count  343.000000\n",
       " mean     1.416910\n",
       " std      0.744143\n",
       " min      1.000000\n",
       " 25%      1.000000\n",
       " 50%      1.000000\n",
       " 75%      2.000000\n",
       " max      4.000000)"
      ]
     },
     "execution_count": 8,
     "metadata": {},
     "output_type": "execute_result"
    }
   ],
   "source": [
    "train_labels.describe(),test_labels.describe()"
   ]
  },
  {
   "cell_type": "markdown",
   "metadata": {},
   "source": [
    "### 1-5 Normalization을 위한 Mean, std 확보"
   ]
  },
  {
   "cell_type": "code",
   "execution_count": 9,
   "metadata": {},
   "outputs": [
    {
     "data": {
      "text/plain": [
       "(Price          2.871480\n",
       " Maintenance    2.515523\n",
       " Doors          3.470036\n",
       " Persons        3.701805\n",
       " Luggage        2.011552\n",
       " Safety         2.033935\n",
       " Name: mean, dtype: float64, Price          0.930040\n",
       " Maintenance    1.115419\n",
       " Doors          1.123516\n",
       " Persons        1.234688\n",
       " Luggage        0.816120\n",
       " Safety         0.817707\n",
       " Name: std, dtype: float64)"
      ]
     },
     "execution_count": 9,
     "metadata": {},
     "output_type": "execute_result"
    }
   ],
   "source": [
    "trainStatus = train_dataset.describe().transpose()\n",
    "trainStatus['mean'],trainStatus['std']"
   ]
  },
  {
   "cell_type": "markdown",
   "metadata": {},
   "source": [
    "### 1-6 Data Normalization"
   ]
  },
  {
   "cell_type": "code",
   "execution_count": 10,
   "metadata": {},
   "outputs": [
    {
     "data": {
      "text/html": [
       "<div>\n",
       "<style scoped>\n",
       "    .dataframe tbody tr th:only-of-type {\n",
       "        vertical-align: middle;\n",
       "    }\n",
       "\n",
       "    .dataframe tbody tr th {\n",
       "        vertical-align: top;\n",
       "    }\n",
       "\n",
       "    .dataframe thead th {\n",
       "        text-align: right;\n",
       "    }\n",
       "</style>\n",
       "<table border=\"1\" class=\"dataframe\">\n",
       "  <thead>\n",
       "    <tr style=\"text-align: right;\">\n",
       "      <th></th>\n",
       "      <th>Price</th>\n",
       "      <th>Maintenance</th>\n",
       "      <th>Doors</th>\n",
       "      <th>Persons</th>\n",
       "      <th>Luggage</th>\n",
       "      <th>Safety</th>\n",
       "    </tr>\n",
       "  </thead>\n",
       "  <tbody>\n",
       "    <tr>\n",
       "      <th>0</th>\n",
       "      <td>1.213411</td>\n",
       "      <td>1.330869</td>\n",
       "      <td>-1.308425</td>\n",
       "      <td>-1.378328</td>\n",
       "      <td>-1.239466</td>\n",
       "      <td>-1.264432</td>\n",
       "    </tr>\n",
       "    <tr>\n",
       "      <th>1</th>\n",
       "      <td>1.213411</td>\n",
       "      <td>1.330869</td>\n",
       "      <td>-1.308425</td>\n",
       "      <td>-1.378328</td>\n",
       "      <td>-1.239466</td>\n",
       "      <td>-0.041500</td>\n",
       "    </tr>\n",
       "    <tr>\n",
       "      <th>2</th>\n",
       "      <td>1.213411</td>\n",
       "      <td>1.330869</td>\n",
       "      <td>-1.308425</td>\n",
       "      <td>-1.378328</td>\n",
       "      <td>-1.239466</td>\n",
       "      <td>1.181431</td>\n",
       "    </tr>\n",
       "    <tr>\n",
       "      <th>3</th>\n",
       "      <td>1.213411</td>\n",
       "      <td>1.330869</td>\n",
       "      <td>-0.418362</td>\n",
       "      <td>-1.378328</td>\n",
       "      <td>-1.239466</td>\n",
       "      <td>-1.264432</td>\n",
       "    </tr>\n",
       "    <tr>\n",
       "      <th>4</th>\n",
       "      <td>1.213411</td>\n",
       "      <td>1.330869</td>\n",
       "      <td>-0.418362</td>\n",
       "      <td>-1.378328</td>\n",
       "      <td>-1.239466</td>\n",
       "      <td>-0.041500</td>\n",
       "    </tr>\n",
       "  </tbody>\n",
       "</table>\n",
       "</div>"
      ],
      "text/plain": [
       "      Price  Maintenance     Doors   Persons   Luggage    Safety\n",
       "0  1.213411     1.330869 -1.308425 -1.378328 -1.239466 -1.264432\n",
       "1  1.213411     1.330869 -1.308425 -1.378328 -1.239466 -0.041500\n",
       "2  1.213411     1.330869 -1.308425 -1.378328 -1.239466  1.181431\n",
       "3  1.213411     1.330869 -0.418362 -1.378328 -1.239466 -1.264432\n",
       "4  1.213411     1.330869 -0.418362 -1.378328 -1.239466 -0.041500"
      ]
     },
     "execution_count": 10,
     "metadata": {},
     "output_type": "execute_result"
    }
   ],
   "source": [
    "def normalizeData(x):\n",
    "\treturn (x - trainStatus['mean']) / trainStatus['std']\n",
    "\n",
    "normalized_train_data = normalizeData(train_dataset)\n",
    "normalized_test_data = normalizeData(test_dataset)\n",
    "normalized_train_data.head()"
   ]
  },
  {
   "cell_type": "markdown",
   "metadata": {},
   "source": [
    "### 1-7 Build Model"
   ]
  },
  {
   "cell_type": "code",
   "execution_count": 11,
   "metadata": {},
   "outputs": [],
   "source": [
    "def build_model():\n",
    "\tmodel = keras.Sequential([\\\n",
    "\t\tlayers.Dense(64, activation=tf.nn.relu, input_shape=[6]),\\\n",
    "\t\tlayers.Dense(64, activation=tf.nn.relu),\\\n",
    "\t\tlayers.Dense(1)\n",
    "\t])\n",
    "\toptimizer = tf.keras.optimizers.RMSprop(0.001)\n",
    "\tmodel.compile(loss='mean_squared_error', \\\n",
    "                  optimizer=optimizer, metrics=['mean_absolute_error', 'mean_squared_error'])\n",
    "\treturn model"
   ]
  },
  {
   "cell_type": "code",
   "execution_count": 12,
   "metadata": {},
   "outputs": [
    {
     "name": "stdout",
     "output_type": "stream",
     "text": [
      "WARNING:tensorflow:From C:\\Users\\t911l\\AppData\\Roaming\\Python\\Python36\\site-packages\\tensorflow\\python\\ops\\init_ops.py:1251: calling VarianceScaling.__init__ (from tensorflow.python.ops.init_ops) with dtype is deprecated and will be removed in a future version.\n",
      "Instructions for updating:\n",
      "Call initializer instance with the dtype argument instead of passing it to the constructor\n"
     ]
    }
   ],
   "source": [
    "model = build_model()"
   ]
  },
  {
   "cell_type": "markdown",
   "metadata": {},
   "source": [
    "### 1-8 Model 확인, Example 실행"
   ]
  },
  {
   "cell_type": "code",
   "execution_count": 13,
   "metadata": {},
   "outputs": [
    {
     "name": "stdout",
     "output_type": "stream",
     "text": [
      "Model: \"sequential\"\n",
      "_________________________________________________________________\n",
      "Layer (type)                 Output Shape              Param #   \n",
      "=================================================================\n",
      "dense (Dense)                (None, 64)                448       \n",
      "_________________________________________________________________\n",
      "dense_1 (Dense)              (None, 64)                4160      \n",
      "_________________________________________________________________\n",
      "dense_2 (Dense)              (None, 1)                 65        \n",
      "=================================================================\n",
      "Total params: 4,673\n",
      "Trainable params: 4,673\n",
      "Non-trainable params: 0\n",
      "_________________________________________________________________\n"
     ]
    },
    {
     "data": {
      "text/plain": [
       "array([[-0.11434855],\n",
       "       [-0.11593141],\n",
       "       [-0.21094304],\n",
       "       [ 0.03430163],\n",
       "       [-0.02892515],\n",
       "       [-0.1028904 ],\n",
       "       [ 0.07632117],\n",
       "       [ 0.03121991],\n",
       "       [ 0.01748413],\n",
       "       [ 0.0540667 ]], dtype=float32)"
      ]
     },
     "execution_count": 13,
     "metadata": {},
     "output_type": "execute_result"
    }
   ],
   "source": [
    "model.summary()\n",
    "example_batch = normalized_train_data[:10]\n",
    "example_result = model.predict(example_batch)\n",
    "example_result"
   ]
  },
  {
   "cell_type": "markdown",
   "metadata": {},
   "source": [
    "### 1-9 Training 진행"
   ]
  },
  {
   "cell_type": "code",
   "execution_count": 14,
   "metadata": {},
   "outputs": [
    {
     "name": "stdout",
     "output_type": "stream",
     "text": [
      "\n",
      "....................................................................................................\n",
      "....................................................................................................\n",
      "....................................................................................................\n",
      "....................................................................................................\n",
      "....................................................................................................\n",
      "....................................................................................................\n",
      "....................................................................................................\n",
      "....................................................................................................\n",
      "....................................................................................................\n",
      "....................................................................................................\n",
      "\n",
      "Done. Training Time : 40.595s\n"
     ]
    }
   ],
   "source": [
    "class PrintDot(keras.callbacks.Callback):\n",
    "\tdef on_epoch_end(self, epoch, logs):\n",
    "\t\tif epoch % 100 == 0: print('')\n",
    "\t\tprint ('.', end='')\n",
    "        \n",
    "time_start = time.time()\n",
    "EPOCHS = 1000\n",
    "\n",
    "history = model.fit( normalized_train_data, train_labels, \\\n",
    "\tepochs=EPOCHS, validation_split=0.2, verbose=0, callbacks=[PrintDot()])\n",
    "\n",
    "print ('\\n\\nDone. Training Time : %0.3fs' %(time.time()-time_start))"
   ]
  },
  {
   "cell_type": "markdown",
   "metadata": {},
   "source": [
    "### 1-10 정확도 확인"
   ]
  },
  {
   "cell_type": "code",
   "execution_count": 15,
   "metadata": {},
   "outputs": [
    {
     "data": {
      "text/html": [
       "<div>\n",
       "<style scoped>\n",
       "    .dataframe tbody tr th:only-of-type {\n",
       "        vertical-align: middle;\n",
       "    }\n",
       "\n",
       "    .dataframe tbody tr th {\n",
       "        vertical-align: top;\n",
       "    }\n",
       "\n",
       "    .dataframe thead th {\n",
       "        text-align: right;\n",
       "    }\n",
       "</style>\n",
       "<table border=\"1\" class=\"dataframe\">\n",
       "  <thead>\n",
       "    <tr style=\"text-align: right;\">\n",
       "      <th></th>\n",
       "      <th>loss</th>\n",
       "      <th>mean_absolute_error</th>\n",
       "      <th>mean_squared_error</th>\n",
       "      <th>val_loss</th>\n",
       "      <th>val_mean_absolute_error</th>\n",
       "      <th>val_mean_squared_error</th>\n",
       "      <th>epoch</th>\n",
       "    </tr>\n",
       "  </thead>\n",
       "  <tbody>\n",
       "    <tr>\n",
       "      <th>995</th>\n",
       "      <td>0.000814</td>\n",
       "      <td>0.019891</td>\n",
       "      <td>0.000814</td>\n",
       "      <td>0.343437</td>\n",
       "      <td>0.441562</td>\n",
       "      <td>0.343437</td>\n",
       "      <td>995</td>\n",
       "    </tr>\n",
       "    <tr>\n",
       "      <th>996</th>\n",
       "      <td>0.001057</td>\n",
       "      <td>0.021075</td>\n",
       "      <td>0.001057</td>\n",
       "      <td>0.279270</td>\n",
       "      <td>0.401469</td>\n",
       "      <td>0.279270</td>\n",
       "      <td>996</td>\n",
       "    </tr>\n",
       "    <tr>\n",
       "      <th>997</th>\n",
       "      <td>0.000695</td>\n",
       "      <td>0.018256</td>\n",
       "      <td>0.000695</td>\n",
       "      <td>0.295706</td>\n",
       "      <td>0.405610</td>\n",
       "      <td>0.295706</td>\n",
       "      <td>997</td>\n",
       "    </tr>\n",
       "    <tr>\n",
       "      <th>998</th>\n",
       "      <td>0.000996</td>\n",
       "      <td>0.021370</td>\n",
       "      <td>0.000996</td>\n",
       "      <td>0.297725</td>\n",
       "      <td>0.407346</td>\n",
       "      <td>0.297725</td>\n",
       "      <td>998</td>\n",
       "    </tr>\n",
       "    <tr>\n",
       "      <th>999</th>\n",
       "      <td>0.000815</td>\n",
       "      <td>0.019869</td>\n",
       "      <td>0.000815</td>\n",
       "      <td>0.333591</td>\n",
       "      <td>0.428172</td>\n",
       "      <td>0.333591</td>\n",
       "      <td>999</td>\n",
       "    </tr>\n",
       "  </tbody>\n",
       "</table>\n",
       "</div>"
      ],
      "text/plain": [
       "         loss  mean_absolute_error  mean_squared_error  val_loss  \\\n",
       "995  0.000814             0.019891            0.000814  0.343437   \n",
       "996  0.001057             0.021075            0.001057  0.279270   \n",
       "997  0.000695             0.018256            0.000695  0.295706   \n",
       "998  0.000996             0.021370            0.000996  0.297725   \n",
       "999  0.000815             0.019869            0.000815  0.333591   \n",
       "\n",
       "     val_mean_absolute_error  val_mean_squared_error  epoch  \n",
       "995                 0.441562                0.343437    995  \n",
       "996                 0.401469                0.279270    996  \n",
       "997                 0.405610                0.295706    997  \n",
       "998                 0.407346                0.297725    998  \n",
       "999                 0.428172                0.333591    999  "
      ]
     },
     "execution_count": 15,
     "metadata": {},
     "output_type": "execute_result"
    }
   ],
   "source": [
    "hist = pd.DataFrame(history.history)\n",
    "hist['epoch'] = history.epoch\n",
    "hist.tail()"
   ]
  },
  {
   "cell_type": "code",
   "execution_count": 16,
   "metadata": {},
   "outputs": [],
   "source": [
    "import matplotlib.pyplot as plt\n",
    "\n",
    "def plot_history(history):\n",
    "\thist = pd.DataFrame(history.history)\n",
    "\thist['epoch'] = history.epoch\n",
    "\n",
    "\tplt.figure(figsize=(8,12))\n",
    "\n",
    "\tplt.subplot(2,1,1)\n",
    "\tplt.xlabel('Epoch')\n",
    "\tplt.ylabel('Mean Abs Error')\n",
    "\tplt.plot(hist['epoch'], hist['mean_absolute_error'], label='Train Error')\n",
    "\tplt.plot(hist['epoch'], hist['val_mean_absolute_error'], label = 'Val Error')\n",
    "\tplt.ylim([0,0.8])\n",
    "\tplt.legend()\n",
    "\n",
    "\tplt.subplot(2,1,2)\n",
    "\tplt.xlabel('Epoch')\n",
    "\tplt.ylabel('Mean Square Error')\n",
    "\tplt.plot(hist['epoch'], hist['mean_squared_error'], label='Train Error')\n",
    "\tplt.plot(hist['epoch'], hist['val_mean_squared_error'], label = 'Val Error')\n",
    "\tplt.ylim([0,1])\n",
    "\tplt.legend()\n",
    "\tplt.show()\n"
   ]
  },
  {
   "cell_type": "code",
   "execution_count": 17,
   "metadata": {},
   "outputs": [
    {
     "data": {
      "image/png": "[encoded data removed]",
      "text/plain": [
       "<matplotlib.figure.Figure at 0x23854a9a748>"
      ]
     },
     "metadata": {
      "needs_background": "light"
     },
     "output_type": "display_data"
    }
   ],
   "source": [
    "plot_history(history)"
   ]
  },
  {
   "cell_type": "markdown",
   "metadata": {},
   "source": [
    "### 1-11 Early Stop을 적용한 Training 횟수 줄이기"
   ]
  },
  {
   "cell_type": "code",
   "execution_count": 20,
   "metadata": {},
   "outputs": [
    {
     "name": "stdout",
     "output_type": "stream",
     "text": [
      "\n",
      "...................................\n",
      "\n",
      "Done. Training Time : 0.000s\n"
     ]
    },
    {
     "data": {
      "image/png": "[encoded data removed]",
      "text/plain": [
       "<matplotlib.figure.Figure at 0x23859fdf828>"
      ]
     },
     "metadata": {
      "needs_background": "light"
     },
     "output_type": "display_data"
    }
   ],
   "source": [
    "model = build_model()\n",
    "early_stop = keras.callbacks.EarlyStopping(monitor='val_loss', patience=10)\n",
    "\n",
    "history = model.fit(normalized_train_data, train_labels, epochs=EPOCHS,\\\n",
    "\tvalidation_split = 0.2, verbose=0, callbacks=[early_stop, PrintDot()])\n",
    "\n",
    "time_start = time.time()\t\n",
    "print ('\\n\\nDone. Training Time : %0.3fs' %(time.time()-time_start))\n",
    "plot_history(history)"
   ]
  },
  {
   "cell_type": "markdown",
   "metadata": {},
   "source": [
    "### 1-12 Test set 적용 예측 결과"
   ]
  },
  {
   "cell_type": "code",
   "execution_count": 24,
   "metadata": {},
   "outputs": [
    {
     "name": "stdout",
     "output_type": "stream",
     "text": [
      "테스트 세트의 평균 절대 오차:  0.38 \n"
     ]
    }
   ],
   "source": [
    "loss, mae, mse = model.evaluate(normalized_test_data, test_labels, verbose=0)\n",
    "print(\"테스트 세트의 평균 절대 오차: {:5.2f} \".format(mae))"
   ]
  },
  {
   "cell_type": "markdown",
   "metadata": {},
   "source": [
    "### 1-13 예측 결과 비교 Plotting (오차분포확인)"
   ]
  },
  {
   "cell_type": "code",
   "execution_count": 26,
   "metadata": {},
   "outputs": [
    {
     "data": {
      "text/plain": [
       "[<matplotlib.lines.Line2D at 0x2385a0ef518>]"
      ]
     },
     "execution_count": 26,
     "metadata": {},
     "output_type": "execute_result"
    },
    {
     "data": {
      "image/png": "[encoded data removed]",
      "text/plain": [
       "<matplotlib.figure.Figure at 0x2385a0efc88>"
      ]
     },
     "metadata": {
      "needs_background": "light"
     },
     "output_type": "display_data"
    }
   ],
   "source": [
    "test_predictions = model.predict(normalized_test_data).flatten()\n",
    "\n",
    "plt.scatter(test_labels.loc[:,'Score'], test_predictions)\n",
    "plt.xlabel('True')\n",
    "plt.ylabel('Predictions')\n",
    "plt.axis('equal')\n",
    "plt.axis('square')\n",
    "plt.xlim([0,plt.xlim()[1]])\n",
    "plt.ylim([0,plt.ylim()[1]])\n",
    "plt.plot([-100,100], [-100,100])"
   ]
  },
  {
   "cell_type": "markdown",
   "metadata": {},
   "source": [
    "# ## =======================================================\n",
    "# ## 2. Classification 으로 전환하여 Model 학습 및 예측 진행해보기\n",
    "# ## ======================================================="
   ]
  },
  {
   "cell_type": "markdown",
   "metadata": {},
   "source": [
    "### 2-1 Train, Test Label data를 One-hot encoding으로 변환"
   ]
  },
  {
   "cell_type": "code",
   "execution_count": 33,
   "metadata": {},
   "outputs": [],
   "source": [
    "import copy\n",
    "\n",
    "train_labels_cls = copy.deepcopy(train_labels)\n",
    "test_labels_cls = copy.deepcopy(test_labels)\n",
    "\n",
    "train_labels_cls['unacc'] = (train_labels_cls['Score'] == 1)*1.0\n",
    "train_labels_cls['acc'] = (train_labels_cls['Score'] == 2)*1.0\n",
    "train_labels_cls['good'] = (train_labels_cls['Score'] == 3)*1.0\n",
    "train_labels_cls['vgood'] = (train_labels_cls['Score'] == 4)*1.0\n",
    "\n",
    "test_labels_cls['unacc'] = (test_labels_cls['Score'] == 1)*1.0\n",
    "test_labels_cls['acc'] = (test_labels_cls['Score'] == 2)*1.0\n",
    "test_labels_cls['good'] = (test_labels_cls['Score'] == 3)*1.0\n",
    "test_labels_cls['vgood'] = (test_labels_cls['Score'] == 4)*1.0\n",
    "\n",
    "_ = train_labels_cls.pop('Score')\n",
    "_ = test_labels_cls.pop('Score')"
   ]
  },
  {
   "cell_type": "code",
   "execution_count": 41,
   "metadata": {},
   "outputs": [
    {
     "data": {
      "text/html": [
       "<div>\n",
       "<style scoped>\n",
       "    .dataframe tbody tr th:only-of-type {\n",
       "        vertical-align: middle;\n",
       "    }\n",
       "\n",
       "    .dataframe tbody tr th {\n",
       "        vertical-align: top;\n",
       "    }\n",
       "\n",
       "    .dataframe thead th {\n",
       "        text-align: right;\n",
       "    }\n",
       "</style>\n",
       "<table border=\"1\" class=\"dataframe\">\n",
       "  <thead>\n",
       "    <tr style=\"text-align: right;\">\n",
       "      <th></th>\n",
       "      <th>unacc</th>\n",
       "      <th>acc</th>\n",
       "      <th>good</th>\n",
       "      <th>vgood</th>\n",
       "    </tr>\n",
       "  </thead>\n",
       "  <tbody>\n",
       "    <tr>\n",
       "      <th>1380</th>\n",
       "      <td>0.0</td>\n",
       "      <td>0.0</td>\n",
       "      <td>0.0</td>\n",
       "      <td>1.0</td>\n",
       "    </tr>\n",
       "    <tr>\n",
       "      <th>1381</th>\n",
       "      <td>0.0</td>\n",
       "      <td>0.0</td>\n",
       "      <td>0.0</td>\n",
       "      <td>1.0</td>\n",
       "    </tr>\n",
       "    <tr>\n",
       "      <th>1382</th>\n",
       "      <td>0.0</td>\n",
       "      <td>0.0</td>\n",
       "      <td>0.0</td>\n",
       "      <td>1.0</td>\n",
       "    </tr>\n",
       "    <tr>\n",
       "      <th>1383</th>\n",
       "      <td>0.0</td>\n",
       "      <td>0.0</td>\n",
       "      <td>0.0</td>\n",
       "      <td>1.0</td>\n",
       "    </tr>\n",
       "    <tr>\n",
       "      <th>1384</th>\n",
       "      <td>0.0</td>\n",
       "      <td>0.0</td>\n",
       "      <td>0.0</td>\n",
       "      <td>1.0</td>\n",
       "    </tr>\n",
       "  </tbody>\n",
       "</table>\n",
       "</div>"
      ],
      "text/plain": [
       "      unacc  acc  good  vgood\n",
       "1380    0.0  0.0   0.0    1.0\n",
       "1381    0.0  0.0   0.0    1.0\n",
       "1382    0.0  0.0   0.0    1.0\n",
       "1383    0.0  0.0   0.0    1.0\n",
       "1384    0.0  0.0   0.0    1.0"
      ]
     },
     "execution_count": 41,
     "metadata": {},
     "output_type": "execute_result"
    }
   ],
   "source": [
    "train_labels_cls.tail()"
   ]
  },
  {
   "cell_type": "code",
   "execution_count": 43,
   "metadata": {},
   "outputs": [
    {
     "data": {
      "text/html": [
       "<div>\n",
       "<style scoped>\n",
       "    .dataframe tbody tr th:only-of-type {\n",
       "        vertical-align: middle;\n",
       "    }\n",
       "\n",
       "    .dataframe tbody tr th {\n",
       "        vertical-align: top;\n",
       "    }\n",
       "\n",
       "    .dataframe thead th {\n",
       "        text-align: right;\n",
       "    }\n",
       "</style>\n",
       "<table border=\"1\" class=\"dataframe\">\n",
       "  <thead>\n",
       "    <tr style=\"text-align: right;\">\n",
       "      <th></th>\n",
       "      <th>unacc</th>\n",
       "      <th>acc</th>\n",
       "      <th>good</th>\n",
       "      <th>vgood</th>\n",
       "    </tr>\n",
       "  </thead>\n",
       "  <tbody>\n",
       "    <tr>\n",
       "      <th>338</th>\n",
       "      <td>0.0</td>\n",
       "      <td>0.0</td>\n",
       "      <td>0.0</td>\n",
       "      <td>1.0</td>\n",
       "    </tr>\n",
       "    <tr>\n",
       "      <th>339</th>\n",
       "      <td>0.0</td>\n",
       "      <td>0.0</td>\n",
       "      <td>0.0</td>\n",
       "      <td>1.0</td>\n",
       "    </tr>\n",
       "    <tr>\n",
       "      <th>340</th>\n",
       "      <td>0.0</td>\n",
       "      <td>0.0</td>\n",
       "      <td>0.0</td>\n",
       "      <td>1.0</td>\n",
       "    </tr>\n",
       "    <tr>\n",
       "      <th>341</th>\n",
       "      <td>0.0</td>\n",
       "      <td>0.0</td>\n",
       "      <td>0.0</td>\n",
       "      <td>1.0</td>\n",
       "    </tr>\n",
       "    <tr>\n",
       "      <th>342</th>\n",
       "      <td>0.0</td>\n",
       "      <td>0.0</td>\n",
       "      <td>0.0</td>\n",
       "      <td>1.0</td>\n",
       "    </tr>\n",
       "  </tbody>\n",
       "</table>\n",
       "</div>"
      ],
      "text/plain": [
       "     unacc  acc  good  vgood\n",
       "338    0.0  0.0   0.0    1.0\n",
       "339    0.0  0.0   0.0    1.0\n",
       "340    0.0  0.0   0.0    1.0\n",
       "341    0.0  0.0   0.0    1.0\n",
       "342    0.0  0.0   0.0    1.0"
      ]
     },
     "execution_count": 43,
     "metadata": {},
     "output_type": "execute_result"
    }
   ],
   "source": [
    "test_labels_cls.tail()"
   ]
  },
  {
   "cell_type": "markdown",
   "metadata": {},
   "source": [
    "### 2-2 Modeling 진행 (Label이 4개므로 마지막 layer는 4로 설정)"
   ]
  },
  {
   "cell_type": "code",
   "execution_count": 44,
   "metadata": {},
   "outputs": [
    {
     "name": "stdout",
     "output_type": "stream",
     "text": [
      "Model: \"sequential_4\"\n",
      "_________________________________________________________________\n",
      "Layer (type)                 Output Shape              Param #   \n",
      "=================================================================\n",
      "dense_12 (Dense)             (None, 64)                448       \n",
      "_________________________________________________________________\n",
      "dense_13 (Dense)             (None, 64)                4160      \n",
      "_________________________________________________________________\n",
      "dense_14 (Dense)             (None, 4)                 260       \n",
      "=================================================================\n",
      "Total params: 4,868\n",
      "Trainable params: 4,868\n",
      "Non-trainable params: 0\n",
      "_________________________________________________________________\n"
     ]
    },
    {
     "data": {
      "text/plain": [
       "array([[0.        , 0.        , 0.09269381, 0.        ],\n",
       "       [0.        , 0.        , 0.00197591, 0.        ],\n",
       "       [0.        , 0.        , 0.        , 0.        ],\n",
       "       [0.        , 0.        , 0.15515476, 0.        ],\n",
       "       [0.        , 0.        , 0.01203351, 0.        ],\n",
       "       [0.        , 0.        , 0.        , 0.        ],\n",
       "       [0.        , 0.        , 0.10616836, 0.00155536],\n",
       "       [0.        , 0.        , 0.        , 0.        ],\n",
       "       [0.        , 0.        , 0.        , 0.04749221],\n",
       "       [0.        , 0.        , 0.01251993, 0.11079945]], dtype=float32)"
      ]
     },
     "execution_count": 44,
     "metadata": {},
     "output_type": "execute_result"
    }
   ],
   "source": [
    "def build_model2():\n",
    "\tmodel = keras.Sequential([\\\n",
    "\t\tlayers.Dense(64, activation=tf.nn.relu, input_shape=[6]),\\\n",
    "\t\tlayers.Dense(64, activation=tf.nn.relu),\\\n",
    "\t\tlayers.Dense(4, activation=tf.nn.relu)\n",
    "\t])\n",
    "\n",
    "\toptimizer = tf.keras.optimizers.RMSprop(0.001)\n",
    "\n",
    "\tif True:\n",
    "\t\tmodel.compile(loss='mean_squared_error', \\\n",
    "\t\t\toptimizer=optimizer, metrics=['mean_absolute_error', 'mean_squared_error'])\n",
    "\n",
    "\telse:\n",
    "\t\tmodel.compile(loss='sparse_categorical_crossentropy', \\\n",
    "\t\t\toptimizer=optimizer, metrics=['accuracy'])\n",
    "\n",
    "\treturn model\n",
    "\n",
    "model2 = build_model2()\n",
    "\n",
    "model2.summary()\n",
    "\n",
    "example_batch = normalized_train_data[:10]\n",
    "example_result = model2.predict(example_batch)\n",
    "example_result\n"
   ]
  },
  {
   "cell_type": "markdown",
   "metadata": {},
   "source": [
    "### 2-3 Build Model"
   ]
  },
  {
   "cell_type": "code",
   "execution_count": 45,
   "metadata": {},
   "outputs": [
    {
     "name": "stdout",
     "output_type": "stream",
     "text": [
      "\n",
      ".........................\n",
      "\n",
      "Done. 0.000s\n"
     ]
    },
    {
     "data": {
      "image/png": "[encoded data removed]",
      "text/plain": [
       "<matplotlib.figure.Figure at 0x238581b0da0>"
      ]
     },
     "metadata": {
      "needs_background": "light"
     },
     "output_type": "display_data"
    }
   ],
   "source": [
    "EPOCHS = 1000\n",
    "\n",
    "early_stop = keras.callbacks.EarlyStopping(monitor='val_loss', patience=10)\n",
    "\n",
    "history = model2.fit(normalized_train_data, train_labels_cls, epochs=EPOCHS,\\\n",
    "\tvalidation_split = 0.2, verbose=0, callbacks=[early_stop, PrintDot()])\n",
    "\n",
    "time_start = time.time()\t\n",
    "print ('\\n\\nDone. %0.3fs' %(time.time()-time_start))\n",
    "plot_history(history)"
   ]
  },
  {
   "cell_type": "markdown",
   "metadata": {},
   "source": [
    "### 2-4 Test set 적용 예측 결과"
   ]
  },
  {
   "cell_type": "code",
   "execution_count": 48,
   "metadata": {},
   "outputs": [
    {
     "name": "stdout",
     "output_type": "stream",
     "text": [
      "테스트 세트의 평균 절대 오차:  0.14 \n"
     ]
    }
   ],
   "source": [
    "loss, mae, mse = model2.evaluate(normalized_test_data, test_labels_cls, verbose=0)\n",
    "print(\"테스트 세트의 평균 절대 오차: {:5.2f} \".format(mae))"
   ]
  },
  {
   "cell_type": "markdown",
   "metadata": {},
   "source": [
    "### 2-5 One-hot 인코딩으로 나눈 것을 다시 Score label로 변경함"
   ]
  },
  {
   "cell_type": "code",
   "execution_count": 49,
   "metadata": {},
   "outputs": [],
   "source": [
    "import numpy as np\n",
    "\n",
    "test_predictions = model2.predict(normalized_test_data)#.flatten()\n",
    "\n",
    "## 각각의 예측값을 합친 값\n",
    "test_predictions_cls = 1*test_predictions[:,0] + 2*test_predictions[:,1] \\\n",
    "\t+ 3*test_predictions[:,2] + 4*test_predictions[:,3]\n",
    "\n",
    "## 최대 값을 가진 label 기준으로 Score 설정\n",
    "test_predictions_cls2 = np.argmax(test_predictions, axis=1) + 1 "
   ]
  },
  {
   "cell_type": "markdown",
   "metadata": {},
   "source": [
    "### 2-6 예측한 값을 Score 값으로 변경하여 관측값이 얼마나 일치하는 확인하는 방식으로 정확도 체크"
   ]
  },
  {
   "cell_type": "code",
   "execution_count": 56,
   "metadata": {},
   "outputs": [
    {
     "name": "stdout",
     "output_type": "stream",
     "text": [
      "Accuracy of Score : 0.810 \n"
     ]
    }
   ],
   "source": [
    "test_labels_cls['Score'] = 1*test_labels_cls['unacc'] + 2*test_labels_cls['acc'] \\\n",
    "\t+ 3*test_labels_cls['good'] + 4*test_labels_cls['vgood']\n",
    "\n",
    "chkarr = test_labels_cls['Score'] - test_predictions_cls2\n",
    "\n",
    "cnt = 0\n",
    "for c in chkarr:\n",
    "\tif int(c) == 0:\n",
    "\t\tcnt += 1\n",
    "\n",
    "print ('Accuracy of Score : %0.3f ' %(cnt / len(chkarr)))"
   ]
  },
  {
   "cell_type": "markdown",
   "metadata": {},
   "source": [
    "### 2-7 예측값들을 다 합쳐서 실제 Score 관측값과 비교하여 plotting"
   ]
  },
  {
   "cell_type": "code",
   "execution_count": 58,
   "metadata": {},
   "outputs": [
    {
     "data": {
      "text/plain": [
       "[<matplotlib.lines.Line2D at 0x2385b8e6a58>]"
      ]
     },
     "execution_count": 58,
     "metadata": {},
     "output_type": "execute_result"
    },
    {
     "data": {
      "image/png": "[encoded data removed]",
      "text/plain": [
       "<matplotlib.figure.Figure at 0x2385b8e63c8>"
      ]
     },
     "metadata": {
      "needs_background": "light"
     },
     "output_type": "display_data"
    }
   ],
   "source": [
    "plt.scatter(test_labels_cls.loc[:,'Score'], test_predictions_cls)\n",
    "plt.xlabel('True')\n",
    "plt.ylabel('Predictions')\n",
    "plt.axis('equal')\n",
    "plt.axis('square')\n",
    "plt.xlim([-1,plt.xlim()[1]])\n",
    "plt.ylim([-1,plt.ylim()[1]])\n",
    "plt.plot([-100,100], [-100,100])"
   ]
  },
  {
   "cell_type": "code",
   "execution_count": null,
   "metadata": {},
   "outputs": [],
   "source": []
  }
 ],
 "metadata": {
  "file_extension": ".py",
  "kernelspec": {
   "display_name": "Python 3",
   "language": "python",
   "name": "python3"
  },
  "language_info": {
   "codemirror_mode": {
    "name": "ipython",
    "version": 3
   },
   "file_extension": ".py",
   "mimetype": "text/x-python",
   "name": "python",
   "nbconvert_exporter": "python",
   "pygments_lexer": "ipython3",
   "version": "3.6.4"
  },
  "mimetype": "text/x-python",
  "name": "python",
  "npconvert_exporter": "python",
  "pygments_lexer": "ipython3",
  "version": 3
 },
 "nbformat": 4,
 "nbformat_minor": 2
}
